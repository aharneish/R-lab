{
 "cells": [
  {
   "cell_type": "markdown",
   "id": "889bd460",
   "metadata": {},
   "source": [
    "# matrix multiplication"
   ]
  },
  {
   "cell_type": "code",
   "execution_count": 15,
   "id": "c2a8745e",
   "metadata": {},
   "outputs": [
    {
     "name": "stdout",
     "output_type": "stream",
     "text": [
      "     [,1] [,2]\n",
      "[1,]    1    2\n",
      "[2,]    3    4\n"
     ]
    }
   ],
   "source": [
    "# defining a matrix\n",
    "a<-matrix(data=1:4,nrow=2,ncol=2,byrow=TRUE)\n",
    "print(a)"
   ]
  },
  {
   "cell_type": "code",
   "execution_count": 26,
   "id": "6426dc14",
   "metadata": {},
   "outputs": [
    {
     "name": "stdout",
     "output_type": "stream",
     "text": [
      "     [,1] [,2]\n",
      "[1,]   10   14\n",
      "[2,]   14   20\n"
     ]
    }
   ],
   "source": [
    "# multiplying  the matrix to its transpose\n",
    "at<-t(a)%*%a\n",
    "print(at)"
   ]
  },
  {
   "cell_type": "code",
   "execution_count": 27,
   "id": "13649e42",
   "metadata": {},
   "outputs": [
    {
     "name": "stdout",
     "output_type": "stream",
     "text": [
      "     [,1] [,2]\n",
      "[1,]   10   14\n",
      "[2,]   14   20\n"
     ]
    }
   ],
   "source": [
    "# using the cross product fuction\n",
    "at1<-crossprod(a)\n",
    "print(at1)"
   ]
  },
  {
   "cell_type": "markdown",
   "id": "202f4b15",
   "metadata": {},
   "source": [
    "# scalar muntiplication and matrix manipulation"
   ]
  },
  {
   "cell_type": "code",
   "execution_count": 18,
   "id": "6d57e06e",
   "metadata": {},
   "outputs": [
    {
     "name": "stdout",
     "output_type": "stream",
     "text": [
      "     [,1] [,2]\n",
      "[1,]   10   20\n",
      "[2,]   30   40\n"
     ]
    }
   ],
   "source": [
    "print(10*a)"
   ]
  },
  {
   "cell_type": "code",
   "execution_count": 19,
   "id": "f836a281",
   "metadata": {},
   "outputs": [
    {
     "name": "stdout",
     "output_type": "stream",
     "text": [
      "     [,1] [,2]\n",
      "[1,]  -90  -80\n",
      "[2,]  -70  -60\n"
     ]
    }
   ],
   "source": [
    "print(10*a-100)"
   ]
  },
  {
   "cell_type": "code",
   "execution_count": 20,
   "id": "f6374913",
   "metadata": {},
   "outputs": [
    {
     "name": "stdout",
     "output_type": "stream",
     "text": [
      "     [,1] [,2]\n",
      "[1,]   11   22\n",
      "[2,]   33   44\n"
     ]
    }
   ],
   "source": [
    "print(a+10*a)"
   ]
  },
  {
   "cell_type": "code",
   "execution_count": 21,
   "id": "c71a092d",
   "metadata": {},
   "outputs": [
    {
     "name": "stdout",
     "output_type": "stream",
     "text": [
      "     [,1] [,2]\n",
      "[1,]   93  186\n",
      "[2,]  279  372\n"
     ]
    }
   ],
   "source": [
    "# linear combination\n",
    "print(a+2*a-10*a+100*a)"
   ]
  },
  {
   "cell_type": "markdown",
   "id": "153eaabd",
   "metadata": {},
   "source": [
    "# using the solve function to find the inverse of the matrix"
   ]
  },
  {
   "cell_type": "code",
   "execution_count": 23,
   "id": "0c79c01d",
   "metadata": {},
   "outputs": [
    {
     "name": "stdout",
     "output_type": "stream",
     "text": [
      "     [,1] [,2]\n",
      "[1,] -2.0  1.0\n",
      "[2,]  1.5 -0.5\n"
     ]
    }
   ],
   "source": [
    "print(solve(a))"
   ]
  },
  {
   "cell_type": "code",
   "execution_count": 25,
   "id": "d7665f49",
   "metadata": {},
   "outputs": [
    {
     "name": "stdout",
     "output_type": "stream",
     "text": [
      "     [,1]         [,2]\n",
      "[1,]    1 1.110223e-16\n",
      "[2,]    0 1.000000e+00\n"
     ]
    }
   ],
   "source": [
    "# multipling the matrix to its inverse\n",
    "print(a%*%solve(a))"
   ]
  },
  {
   "cell_type": "markdown",
   "id": "974ac43e",
   "metadata": {},
   "source": [
    "# Eigen values and eigen vectors"
   ]
  },
  {
   "cell_type": "code",
   "execution_count": 28,
   "id": "8992111b",
   "metadata": {},
   "outputs": [
    {
     "name": "stdout",
     "output_type": "stream",
     "text": [
      "eigen() decomposition\n",
      "$values\n",
      "[1]  5.3722813 -0.3722813\n",
      "\n",
      "$vectors\n",
      "           [,1]       [,2]\n",
      "[1,] -0.4159736 -0.8245648\n",
      "[2,] -0.9093767  0.5657675\n",
      "\n"
     ]
    }
   ],
   "source": [
    "print(eigen(a))"
   ]
  }
 ],
 "metadata": {
  "kernelspec": {
   "display_name": "R",
   "language": "R",
   "name": "ir"
  },
  "language_info": {
   "codemirror_mode": "r",
   "file_extension": ".r",
   "mimetype": "text/x-r-source",
   "name": "R",
   "pygments_lexer": "r",
   "version": "4.2.2"
  }
 },
 "nbformat": 4,
 "nbformat_minor": 5
}
