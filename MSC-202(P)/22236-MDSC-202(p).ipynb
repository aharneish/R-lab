{
 "cells": [
  {
   "cell_type": "markdown",
   "id": "c4961b03",
   "metadata": {},
   "source": [
    "# Creating a matrix"
   ]
  },
  {
   "cell_type": "code",
   "execution_count": 2,
   "id": "5b7c2e5a",
   "metadata": {},
   "outputs": [],
   "source": [
    "A<- matrix(data=c(-11,0,99,88,88,-1,1,0),nrow=4,ncol=2,byrow=TRUE)"
   ]
  },
  {
   "cell_type": "code",
   "execution_count": 3,
   "id": "9c60aa60",
   "metadata": {},
   "outputs": [
    {
     "name": "stdout",
     "output_type": "stream",
     "text": [
      "     [,1] [,2]\n",
      "[1,]  -11    0\n",
      "[2,]   99   88\n",
      "[3,]   88   -1\n",
      "[4,]    1    0\n"
     ]
    }
   ],
   "source": [
    "print(A)"
   ]
  },
  {
   "cell_type": "code",
   "execution_count": 5,
   "id": "3adbf65d",
   "metadata": {},
   "outputs": [
    {
     "data": {
      "text/html": [
       "<table class=\"dataframe\">\n",
       "<caption>A matrix: 2 × 10 of type int</caption>\n",
       "<tbody>\n",
       "\t<tr><td>-2</td><td>-1</td><td>0</td><td>1</td><td>2</td><td>3</td><td>4</td><td>5</td><td>6</td><td>7</td></tr>\n",
       "\t<tr><td> 0</td><td> 1</td><td>2</td><td>3</td><td>4</td><td>5</td><td>6</td><td>7</td><td>8</td><td>9</td></tr>\n",
       "</tbody>\n",
       "</table>\n"
      ],
      "text/latex": [
       "A matrix: 2 × 10 of type int\n",
       "\\begin{tabular}{llllllllll}\n",
       "\t -2 & -1 & 0 & 1 & 2 & 3 & 4 & 5 & 6 & 7\\\\\n",
       "\t  0 &  1 & 2 & 3 & 4 & 5 & 6 & 7 & 8 & 9\\\\\n",
       "\\end{tabular}\n"
      ],
      "text/markdown": [
       "\n",
       "A matrix: 2 × 10 of type int\n",
       "\n",
       "| -2 | -1 | 0 | 1 | 2 | 3 | 4 | 5 | 6 | 7 |\n",
       "|  0 |  1 | 2 | 3 | 4 | 5 | 6 | 7 | 8 | 9 |\n",
       "\n"
      ],
      "text/plain": [
       "     [,1] [,2] [,3] [,4] [,5] [,6] [,7] [,8] [,9] [,10]\n",
       "[1,] -2   -1   0    1    2    3    4    5    6    7    \n",
       "[2,]  0    1   2    3    4    5    6    7    8    9    "
      ]
     },
     "metadata": {},
     "output_type": "display_data"
    }
   ],
   "source": [
    "rbind(-2:7,0:9)"
   ]
  },
  {
   "cell_type": "code",
   "execution_count": 6,
   "id": "03307334",
   "metadata": {},
   "outputs": [
    {
     "data": {
      "text/html": [
       "<table class=\"dataframe\">\n",
       "<caption>A matrix: 6 × 3 of type int</caption>\n",
       "<tbody>\n",
       "\t<tr><td>1</td><td>2</td><td>3</td></tr>\n",
       "\t<tr><td>2</td><td>3</td><td>4</td></tr>\n",
       "\t<tr><td>3</td><td>4</td><td>5</td></tr>\n",
       "\t<tr><td>4</td><td>5</td><td>6</td></tr>\n",
       "\t<tr><td>5</td><td>6</td><td>7</td></tr>\n",
       "\t<tr><td>6</td><td>7</td><td>8</td></tr>\n",
       "</tbody>\n",
       "</table>\n"
      ],
      "text/latex": [
       "A matrix: 6 × 3 of type int\n",
       "\\begin{tabular}{lll}\n",
       "\t 1 & 2 & 3\\\\\n",
       "\t 2 & 3 & 4\\\\\n",
       "\t 3 & 4 & 5\\\\\n",
       "\t 4 & 5 & 6\\\\\n",
       "\t 5 & 6 & 7\\\\\n",
       "\t 6 & 7 & 8\\\\\n",
       "\\end{tabular}\n"
      ],
      "text/markdown": [
       "\n",
       "A matrix: 6 × 3 of type int\n",
       "\n",
       "| 1 | 2 | 3 |\n",
       "| 2 | 3 | 4 |\n",
       "| 3 | 4 | 5 |\n",
       "| 4 | 5 | 6 |\n",
       "| 5 | 6 | 7 |\n",
       "| 6 | 7 | 8 |\n",
       "\n"
      ],
      "text/plain": [
       "     [,1] [,2] [,3]\n",
       "[1,] 1    2    3   \n",
       "[2,] 2    3    4   \n",
       "[3,] 3    4    5   \n",
       "[4,] 4    5    6   \n",
       "[5,] 5    6    7   \n",
       "[6,] 6    7    8   "
      ]
     },
     "metadata": {},
     "output_type": "display_data"
    }
   ],
   "source": [
    "cbind(c(1:6),c(2:7),c(3:8))"
   ]
  },
  {
   "cell_type": "markdown",
   "id": "2bfa8e3c",
   "metadata": {},
   "source": [
    "# Dimension of a matrix"
   ]
  },
  {
   "cell_type": "code",
   "execution_count": 15,
   "id": "5b91cacf",
   "metadata": {},
   "outputs": [
    {
     "name": "stdout",
     "output_type": "stream",
     "text": [
      "     [,1] [,2]\n",
      "[1,]  -11    0\n",
      "[2,]   99   88\n",
      "[3,]   88   -1\n",
      "[4,]    1    0\n"
     ]
    }
   ],
   "source": [
    "print(A)"
   ]
  },
  {
   "cell_type": "code",
   "execution_count": 7,
   "id": "dec42eb4",
   "metadata": {},
   "outputs": [
    {
     "data": {
      "text/html": [
       "<style>\n",
       ".list-inline {list-style: none; margin:0; padding: 0}\n",
       ".list-inline>li {display: inline-block}\n",
       ".list-inline>li:not(:last-child)::after {content: \"\\00b7\"; padding: 0 .5ex}\n",
       "</style>\n",
       "<ol class=list-inline><li>4</li><li>2</li></ol>\n"
      ],
      "text/latex": [
       "\\begin{enumerate*}\n",
       "\\item 4\n",
       "\\item 2\n",
       "\\end{enumerate*}\n"
      ],
      "text/markdown": [
       "1. 4\n",
       "2. 2\n",
       "\n",
       "\n"
      ],
      "text/plain": [
       "[1] 4 2"
      ]
     },
     "metadata": {},
     "output_type": "display_data"
    }
   ],
   "source": [
    "dim(A)"
   ]
  },
  {
   "cell_type": "code",
   "execution_count": 8,
   "id": "ecdb04c3",
   "metadata": {},
   "outputs": [
    {
     "data": {
      "text/html": [
       "4"
      ],
      "text/latex": [
       "4"
      ],
      "text/markdown": [
       "4"
      ],
      "text/plain": [
       "[1] 4"
      ]
     },
     "metadata": {},
     "output_type": "display_data"
    }
   ],
   "source": [
    "nrow(A)"
   ]
  },
  {
   "cell_type": "code",
   "execution_count": 9,
   "id": "e233821d",
   "metadata": {},
   "outputs": [
    {
     "data": {
      "text/html": [
       "2"
      ],
      "text/latex": [
       "2"
      ],
      "text/markdown": [
       "2"
      ],
      "text/plain": [
       "[1] 2"
      ]
     },
     "metadata": {},
     "output_type": "display_data"
    }
   ],
   "source": [
    "ncol(A)"
   ]
  },
  {
   "cell_type": "code",
   "execution_count": 11,
   "id": "a87d0256",
   "metadata": {},
   "outputs": [
    {
     "data": {
      "text/html": [
       "4"
      ],
      "text/latex": [
       "4"
      ],
      "text/markdown": [
       "4"
      ],
      "text/plain": [
       "[1] 4"
      ]
     },
     "metadata": {},
     "output_type": "display_data"
    }
   ],
   "source": [
    "dim(A)[1]"
   ]
  },
  {
   "cell_type": "markdown",
   "id": "d02cfd1f",
   "metadata": {},
   "source": [
    "# Extratcing elements of a matrix"
   ]
  },
  {
   "cell_type": "code",
   "execution_count": 14,
   "id": "e6db7424",
   "metadata": {},
   "outputs": [
    {
     "data": {
      "text/html": [
       "0"
      ],
      "text/latex": [
       "0"
      ],
      "text/markdown": [
       "0"
      ],
      "text/plain": [
       "[1] 0"
      ]
     },
     "metadata": {},
     "output_type": "display_data"
    }
   ],
   "source": [
    "print(A[4,2])"
   ]
  },
  {
   "cell_type": "code",
   "execution_count": 17,
   "id": "8c9b9fe6",
   "metadata": {},
   "outputs": [
    {
     "name": "stdout",
     "output_type": "stream",
     "text": [
      "     [,1] [,2]\n",
      "[1,]    0  -11\n",
      "[2,]   88   99\n",
      "[3,]   -1   88\n",
      "[4,]    0    1\n"
     ]
    }
   ],
   "source": [
    "print(A[,c(2,1)])"
   ]
  },
  {
   "cell_type": "code",
   "execution_count": 18,
   "id": "57c8f465",
   "metadata": {},
   "outputs": [
    {
     "name": "stdout",
     "output_type": "stream",
     "text": [
      "[1] 99 88\n"
     ]
    }
   ],
   "source": [
    "print(A[2,])"
   ]
  },
  {
   "cell_type": "code",
   "execution_count": 19,
   "id": "866f34ce",
   "metadata": {},
   "outputs": [
    {
     "name": "stdout",
     "output_type": "stream",
     "text": [
      "[1]  0 88 -1  0\n"
     ]
    }
   ],
   "source": [
    "print(A[,2])"
   ]
  },
  {
   "cell_type": "code",
   "execution_count": 20,
   "id": "9a2e9988",
   "metadata": {},
   "outputs": [
    {
     "name": "stdout",
     "output_type": "stream",
     "text": [
      "[1] 99 88  1\n"
     ]
    }
   ],
   "source": [
    "print(A[2:4])"
   ]
  },
  {
   "cell_type": "markdown",
   "id": "bed035e2",
   "metadata": {},
   "source": [
    "# Manipulating Matrix\n"
   ]
  },
  {
   "cell_type": "code",
   "execution_count": 22,
   "id": "ac70a225",
   "metadata": {},
   "outputs": [
    {
     "name": "stdout",
     "output_type": "stream",
     "text": [
      "[1]  0 88 -1  0\n"
     ]
    }
   ],
   "source": [
    "print(A[,-1])"
   ]
  },
  {
   "cell_type": "code",
   "execution_count": 23,
   "id": "f1c0a882",
   "metadata": {},
   "outputs": [
    {
     "name": "stdout",
     "output_type": "stream",
     "text": [
      "     [,1] [,2]\n",
      "[1,]  -11    0\n",
      "[2,]   99   88\n",
      "[3,]   88   -1\n",
      "[4,]    1    0\n"
     ]
    }
   ],
   "source": [
    "print(A)"
   ]
  },
  {
   "cell_type": "code",
   "execution_count": 24,
   "id": "335cec5c",
   "metadata": {},
   "outputs": [
    {
     "name": "stdout",
     "output_type": "stream",
     "text": [
      "[1] 99 88  1\n"
     ]
    }
   ],
   "source": [
    "print(A[-1,-2])"
   ]
  },
  {
   "cell_type": "code",
   "execution_count": 25,
   "id": "1df5fd22",
   "metadata": {},
   "outputs": [],
   "source": [
    "b<-A"
   ]
  },
  {
   "cell_type": "code",
   "execution_count": 26,
   "id": "364ee251",
   "metadata": {},
   "outputs": [
    {
     "name": "stdout",
     "output_type": "stream",
     "text": [
      "     [,1] [,2]\n",
      "[1,]  -11    0\n",
      "[2,]   99   88\n",
      "[3,]   88   -1\n",
      "[4,]    1    0\n"
     ]
    }
   ],
   "source": [
    "print(b)"
   ]
  },
  {
   "cell_type": "code",
   "execution_count": 27,
   "id": "62e9b737",
   "metadata": {},
   "outputs": [],
   "source": [
    "b[2,]<-c(1,0)"
   ]
  },
  {
   "cell_type": "code",
   "execution_count": 28,
   "id": "d7392ff3",
   "metadata": {},
   "outputs": [
    {
     "name": "stdout",
     "output_type": "stream",
     "text": [
      "     [,1] [,2]\n",
      "[1,]  -11    0\n",
      "[2,]    1    0\n",
      "[3,]   88   -1\n",
      "[4,]    1    0\n"
     ]
    }
   ],
   "source": [
    "print(b)"
   ]
  },
  {
   "cell_type": "code",
   "execution_count": 30,
   "id": "3506531c",
   "metadata": {},
   "outputs": [
    {
     "name": "stdout",
     "output_type": "stream",
     "text": [
      "     [,1] [,2]\n",
      "[1,]  -11    0\n",
      "[2,]    1   99\n",
      "[3,]    2    0\n",
      "[4,]    1    0\n"
     ]
    }
   ],
   "source": [
    "b[c(2,3),2:1]<-c(99,0,1,2)\n",
    "print(b)"
   ]
  },
  {
   "cell_type": "code",
   "execution_count": 32,
   "id": "0f0b6ad3",
   "metadata": {},
   "outputs": [],
   "source": [
    "diag(x=b)<-rep(x=0,times=2)"
   ]
  },
  {
   "cell_type": "code",
   "execution_count": 33,
   "id": "dac2c2ae",
   "metadata": {},
   "outputs": [
    {
     "name": "stdout",
     "output_type": "stream",
     "text": [
      "     [,1] [,2]\n",
      "[1,]    0    0\n",
      "[2,]    1    0\n",
      "[3,]    2    0\n",
      "[4,]    1    0\n"
     ]
    }
   ],
   "source": [
    "print(b)"
   ]
  }
 ],
 "metadata": {
  "kernelspec": {
   "display_name": "R",
   "language": "R",
   "name": "ir"
  },
  "language_info": {
   "codemirror_mode": "r",
   "file_extension": ".r",
   "mimetype": "text/x-r-source",
   "name": "R",
   "pygments_lexer": "r",
   "version": "4.2.2"
  }
 },
 "nbformat": 4,
 "nbformat_minor": 5
}
